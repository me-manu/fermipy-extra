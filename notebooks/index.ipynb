{
 "cells": [
  {
   "cell_type": "markdown",
   "metadata": {},
   "source": [
    "# Fermipy IPython Notebooks\n",
    "\n",
    "This page collects various notebooks that demonstrate how to use fermipy.  These notebooks can be run interactively by downloading the fermipy-extras repository and launching jupyter notebook from the notebooks directory:\n",
    "\n",
    "```\n",
    "    $ git clone https://github.com/me-manu/fermipy-extra.git    \n",
    "    $ cd fermipy-extra/notebooks\n",
    "    $ jupyter notebook index.ipynb\n",
    "```\n",
    "\n",
    "You can also view the notebooks in your browser, simply visit https://nbviewer.jupyter.org/github/me-manu/fermipy-extra/blob/master/notebooks/index.ipynb\n",
    "    \n",
    "Here is a list of available notebooks:\n",
    "\n",
    "* [PG1553](pg1553.ipynb) : Basic tutorial on LAT analysis.\n",
    "* [IC443](ic443.ipynb) : Analysis to measure the angular extension of the SNR IC443.\n",
    "* [Draco](draco.ipynb) : DM upper limit analysis of the Draco dwarf spheroidal galaxy."
   ]
  },
  {
   "cell_type": "code",
   "execution_count": null,
   "metadata": {},
   "outputs": [],
   "source": []
  }
 ],
 "metadata": {
  "kernelspec": {
   "display_name": "Python [conda env:fermi-2.0.18]",
   "language": "python",
   "name": "conda-env-fermi-2.0.18-py"
  },
  "language_info": {
   "codemirror_mode": {
    "name": "ipython",
    "version": 3
   },
   "file_extension": ".py",
   "mimetype": "text/x-python",
   "name": "python",
   "nbconvert_exporter": "python",
   "pygments_lexer": "ipython3",
   "version": "3.7.10"
  }
 },
 "nbformat": 4,
 "nbformat_minor": 2
}
